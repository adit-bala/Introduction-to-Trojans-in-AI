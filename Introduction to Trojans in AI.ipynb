{
 "cells": [
  {
   "cell_type": "markdown",
   "metadata": {},
   "source": [
    "# Trojans in AI\n",
    "\n",
    "In this notebook, we will be building a machine learning model to test a type of backdoor poisoning, Trojans using the [trojai](https://github.com/trojai/trojai) open source codebase. \n",
    "\n",
    "We will start with a short introduction of how the trojai codebase is structured and what exactly Trojans in AI are. Then we will walk through creating our Trojans in AI using the MNIST dataset and BADNETS Paper. "
   ]
  },
  {
   "cell_type": "markdown",
   "metadata": {},
   "source": [
    "### Introduction\n",
    "\n",
    "We will be using a feed-forward neural network... [short intro to feed forward neural networks]"
   ]
  },
  {
   "cell_type": "markdown",
   "metadata": {},
   "source": [
    "### The TrojAi Codebase\n",
    "\n",
    "Use hierarchy and give short introduction utilizing docs to how codebase is structured"
   ]
  },
  {
   "cell_type": "markdown",
   "metadata": {},
   "source": [
    "### Trojans in AI\n",
    "\n",
    "Give short introduction on Trojans in AI using published paper"
   ]
  },
  {
   "cell_type": "markdown",
   "metadata": {},
   "source": [
    "### Preparing Our Data\n",
    "\n",
    "In order to set up our project properly, we are going to need a few libararies to help us. \n",
    "\n",
    "* RandomState\n",
    "    -  Will keep random state for reproducibility\n",
    "* torch\n",
    "    -  \n",
    "* trojai libraries\n",
    "    - "
   ]
  },
  {
   "cell_type": "code",
   "execution_count": null,
   "metadata": {},
   "outputs": [],
   "source": [
    "import os\n",
    "import argparse\n",
    "from numpy.random import RandomState\n",
    "import numpy as np\n",
    "import logging.config\n",
    "\n",
    "# some_file.py\n",
    "import sys\n",
    "\n",
    "# insert at 1, 0 is the script path (or '' in REPL)\n",
    "sys.path.insert(1, os.path.abspath('../datagen/'))\n",
    "\n",
    "import mnist\n",
    "from mnist_utils import download_and_extract_mnist_file, convert\n",
    "import trojai.datagen.datatype_xforms as tdd\n",
    "import trojai.datagen.insert_merges as tdi\n",
    "import trojai.datagen.image_triggers as tdt\n",
    "import trojai.datagen.common_label_behaviors as tdb\n",
    "import trojai.datagen.experiment as tde\n",
    "import trojai.datagen.config as tdc\n",
    "import trojai.datagen.xform_merge_pipeline as tdx\n",
    "\n",
    "import trojai.modelgen.data_manager as tpm_tdm\n",
    "import trojai.modelgen.architecture_factory as tpm_af\n",
    "import trojai.modelgen.architectures.mnist_architectures as tpma\n",
    "import trojai.modelgen.config as tpmc\n",
    "import trojai.modelgen.runner as tpmr\n",
    "import trojai.modelgen.default_optimizer as tpm_do\n",
    "\n",
    "import torch\n",
    "import multiprocessing\n",
    "\n",
    "MASTER_SEED = 1234\n"
   ]
  },
  {
   "cell_type": "markdown",
   "metadata": {},
   "source": [
    "```\n",
    "Steps:\n",
    "\n",
    "- parser: organize files \n",
    "- decided to use CPU or GPU\n",
    "- skip logger?\n",
    "- create variables for easier readibility\n",
    "- download data\n",
    "    - get data and put into proper directories\n",
    "- generate MNIST data\n",
    "    - go into pipeline with visualizations \n",
    "- create clean and triggered data\n",
    "\n",
    "\n",
    "- training\n",
    "\n",
    "- use pandas dataframe for csv\n",
    "- look into matplotlib and imshow()"
   ]
  }
 ],
 "metadata": {
  "kernelspec": {
   "display_name": "Python 3",
   "language": "python",
   "name": "python3"
  },
  "language_info": {
   "codemirror_mode": {
    "name": "ipython",
    "version": 3
   },
   "file_extension": ".py",
   "mimetype": "text/x-python",
   "name": "python",
   "nbconvert_exporter": "python",
   "pygments_lexer": "ipython3",
   "version": "3.8.3"
  }
 },
 "nbformat": 4,
 "nbformat_minor": 4
}
